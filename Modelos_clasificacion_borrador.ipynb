{
 "cells": [
  {
   "cell_type": "markdown",
   "id": "f17a4d10-0ba6-4bac-ba42-e03ce11a9f23",
   "metadata": {},
   "source": [
    "# Modelos de clasificación básicos"
   ]
  },
  {
   "cell_type": "code",
   "execution_count": 1,
   "id": "6255b426-3791-426a-8e3b-f02bb14143ad",
   "metadata": {},
   "outputs": [
    {
     "name": "stdout",
     "output_type": "stream",
     "text": [
      "(6495, 14)\n"
     ]
    },
    {
     "data": {
      "text/html": [
       "<div>\n",
       "<style scoped>\n",
       "    .dataframe tbody tr th:only-of-type {\n",
       "        vertical-align: middle;\n",
       "    }\n",
       "\n",
       "    .dataframe tbody tr th {\n",
       "        vertical-align: top;\n",
       "    }\n",
       "\n",
       "    .dataframe thead th {\n",
       "        text-align: right;\n",
       "    }\n",
       "</style>\n",
       "<table border=\"1\" class=\"dataframe\">\n",
       "  <thead>\n",
       "    <tr style=\"text-align: right;\">\n",
       "      <th></th>\n",
       "      <th>last_price</th>\n",
       "      <th>total_area</th>\n",
       "      <th>bedrooms</th>\n",
       "      <th>ceiling_height</th>\n",
       "      <th>floors_total</th>\n",
       "      <th>living_area</th>\n",
       "      <th>floor</th>\n",
       "      <th>bike_parking</th>\n",
       "      <th>studio</th>\n",
       "      <th>open_plan</th>\n",
       "      <th>kitchen_area</th>\n",
       "      <th>balcony</th>\n",
       "      <th>airports_nearest</th>\n",
       "      <th>cityCenters_nearest</th>\n",
       "    </tr>\n",
       "  </thead>\n",
       "  <tbody>\n",
       "    <tr>\n",
       "      <th>count</th>\n",
       "      <td>6.495000e+03</td>\n",
       "      <td>6495.000000</td>\n",
       "      <td>6495.000000</td>\n",
       "      <td>6495.000000</td>\n",
       "      <td>6495.000000</td>\n",
       "      <td>6495.000000</td>\n",
       "      <td>6495.000000</td>\n",
       "      <td>6495.000000</td>\n",
       "      <td>6495.0</td>\n",
       "      <td>6495.0</td>\n",
       "      <td>6495.000000</td>\n",
       "      <td>6495.000000</td>\n",
       "      <td>6495.000000</td>\n",
       "      <td>6495.000000</td>\n",
       "    </tr>\n",
       "    <tr>\n",
       "      <th>mean</th>\n",
       "      <td>1.610057e+05</td>\n",
       "      <td>65.588209</td>\n",
       "      <td>2.239569</td>\n",
       "      <td>2.780531</td>\n",
       "      <td>10.855427</td>\n",
       "      <td>38.019549</td>\n",
       "      <td>5.922248</td>\n",
       "      <td>0.002309</td>\n",
       "      <td>0.0</td>\n",
       "      <td>0.0</td>\n",
       "      <td>11.057521</td>\n",
       "      <td>0.651578</td>\n",
       "      <td>27996.794303</td>\n",
       "      <td>11460.108699</td>\n",
       "    </tr>\n",
       "    <tr>\n",
       "      <th>std</th>\n",
       "      <td>2.351729e+05</td>\n",
       "      <td>39.630351</td>\n",
       "      <td>1.163771</td>\n",
       "      <td>0.687026</td>\n",
       "      <td>6.053443</td>\n",
       "      <td>25.101307</td>\n",
       "      <td>4.635593</td>\n",
       "      <td>0.048005</td>\n",
       "      <td>0.0</td>\n",
       "      <td>0.0</td>\n",
       "      <td>6.575596</td>\n",
       "      <td>1.009999</td>\n",
       "      <td>11581.935337</td>\n",
       "      <td>4776.693612</td>\n",
       "    </tr>\n",
       "    <tr>\n",
       "      <th>min</th>\n",
       "      <td>2.438000e+02</td>\n",
       "      <td>17.000000</td>\n",
       "      <td>1.000000</td>\n",
       "      <td>1.000000</td>\n",
       "      <td>1.000000</td>\n",
       "      <td>3.000000</td>\n",
       "      <td>1.000000</td>\n",
       "      <td>0.000000</td>\n",
       "      <td>0.0</td>\n",
       "      <td>0.0</td>\n",
       "      <td>2.000000</td>\n",
       "      <td>0.000000</td>\n",
       "      <td>0.000000</td>\n",
       "      <td>181.000000</td>\n",
       "    </tr>\n",
       "    <tr>\n",
       "      <th>25%</th>\n",
       "      <td>8.700000e+04</td>\n",
       "      <td>42.500000</td>\n",
       "      <td>1.000000</td>\n",
       "      <td>2.550000</td>\n",
       "      <td>5.000000</td>\n",
       "      <td>20.000000</td>\n",
       "      <td>3.000000</td>\n",
       "      <td>0.000000</td>\n",
       "      <td>0.0</td>\n",
       "      <td>0.0</td>\n",
       "      <td>7.100000</td>\n",
       "      <td>0.000000</td>\n",
       "      <td>18446.000000</td>\n",
       "      <td>8180.000000</td>\n",
       "    </tr>\n",
       "    <tr>\n",
       "      <th>50%</th>\n",
       "      <td>1.130000e+05</td>\n",
       "      <td>56.200000</td>\n",
       "      <td>2.000000</td>\n",
       "      <td>2.700000</td>\n",
       "      <td>9.000000</td>\n",
       "      <td>32.000000</td>\n",
       "      <td>5.000000</td>\n",
       "      <td>0.000000</td>\n",
       "      <td>0.0</td>\n",
       "      <td>0.0</td>\n",
       "      <td>9.500000</td>\n",
       "      <td>0.000000</td>\n",
       "      <td>26402.000000</td>\n",
       "      <td>12255.000000</td>\n",
       "    </tr>\n",
       "    <tr>\n",
       "      <th>75%</th>\n",
       "      <td>1.660000e+05</td>\n",
       "      <td>75.150000</td>\n",
       "      <td>3.000000</td>\n",
       "      <td>2.850000</td>\n",
       "      <td>15.500000</td>\n",
       "      <td>45.500000</td>\n",
       "      <td>8.000000</td>\n",
       "      <td>0.000000</td>\n",
       "      <td>0.0</td>\n",
       "      <td>0.0</td>\n",
       "      <td>12.300000</td>\n",
       "      <td>1.000000</td>\n",
       "      <td>36421.000000</td>\n",
       "      <td>14881.000000</td>\n",
       "    </tr>\n",
       "    <tr>\n",
       "      <th>max</th>\n",
       "      <td>8.400000e+06</td>\n",
       "      <td>900.000000</td>\n",
       "      <td>16.000000</td>\n",
       "      <td>27.500000</td>\n",
       "      <td>52.000000</td>\n",
       "      <td>409.700000</td>\n",
       "      <td>29.000000</td>\n",
       "      <td>1.000000</td>\n",
       "      <td>0.0</td>\n",
       "      <td>0.0</td>\n",
       "      <td>112.000000</td>\n",
       "      <td>5.000000</td>\n",
       "      <td>54723.000000</td>\n",
       "      <td>29343.000000</td>\n",
       "    </tr>\n",
       "  </tbody>\n",
       "</table>\n",
       "</div>"
      ],
      "text/plain": [
       "         last_price   total_area     bedrooms  ceiling_height  floors_total  \\\n",
       "count  6.495000e+03  6495.000000  6495.000000     6495.000000   6495.000000   \n",
       "mean   1.610057e+05    65.588209     2.239569        2.780531     10.855427   \n",
       "std    2.351729e+05    39.630351     1.163771        0.687026      6.053443   \n",
       "min    2.438000e+02    17.000000     1.000000        1.000000      1.000000   \n",
       "25%    8.700000e+04    42.500000     1.000000        2.550000      5.000000   \n",
       "50%    1.130000e+05    56.200000     2.000000        2.700000      9.000000   \n",
       "75%    1.660000e+05    75.150000     3.000000        2.850000     15.500000   \n",
       "max    8.400000e+06   900.000000    16.000000       27.500000     52.000000   \n",
       "\n",
       "       living_area        floor  bike_parking  studio  open_plan  \\\n",
       "count  6495.000000  6495.000000   6495.000000  6495.0     6495.0   \n",
       "mean     38.019549     5.922248      0.002309     0.0        0.0   \n",
       "std      25.101307     4.635593      0.048005     0.0        0.0   \n",
       "min       3.000000     1.000000      0.000000     0.0        0.0   \n",
       "25%      20.000000     3.000000      0.000000     0.0        0.0   \n",
       "50%      32.000000     5.000000      0.000000     0.0        0.0   \n",
       "75%      45.500000     8.000000      0.000000     0.0        0.0   \n",
       "max     409.700000    29.000000      1.000000     0.0        0.0   \n",
       "\n",
       "       kitchen_area      balcony  airports_nearest  cityCenters_nearest  \n",
       "count   6495.000000  6495.000000       6495.000000          6495.000000  \n",
       "mean      11.057521     0.651578      27996.794303         11460.108699  \n",
       "std        6.575596     1.009999      11581.935337          4776.693612  \n",
       "min        2.000000     0.000000          0.000000           181.000000  \n",
       "25%        7.100000     0.000000      18446.000000          8180.000000  \n",
       "50%        9.500000     0.000000      26402.000000         12255.000000  \n",
       "75%       12.300000     1.000000      36421.000000         14881.000000  \n",
       "max      112.000000     5.000000      54723.000000         29343.000000  "
      ]
     },
     "execution_count": 1,
     "metadata": {},
     "output_type": "execute_result"
    }
   ],
   "source": [
    "import pandas as pd\n",
    "\n",
    "url_train = 'https://practicum-content.s3.us-west-1.amazonaws.com/datasets/train_data_us.csv'\n",
    "df = pd.read_csv(url_train)\n",
    "\n",
    "print(df.shape)\n",
    "df.describe()"
   ]
  },
  {
   "cell_type": "markdown",
   "id": "23334513-ea58-44e2-bfbb-1f1d7d2a3624",
   "metadata": {},
   "source": [
    "    last_price — precio al cierre (en dólares)\n",
    "    total_area — superficie del apartamento en metros cuadrados (m²)\n",
    "    bedrooms — número de dormitorios\n",
    "    ceiling_height — altura del techo (m)\n",
    "    floors_total — número total de pisos en el edificio\n",
    "    living_area — superficie de sala de estar (m²)\n",
    "    floor — piso\n",
    "    bike_parking — estacionamiento de bicicletas en el edificio (tipo de dato booleano)\n",
    "    is_studio — la propiedad es un estudio (tipo de dato booleano)\n",
    "    is_open_plan — plan abierto (tipo de dato booleano)\n",
    "    kitchen_area — área de cocina (m²)\n",
    "    balconies — número de balcones\n",
    "    airport_dist — distancia al aeropuerto más cercano en metros (m)\n",
    "    city_center_dist — distancia al centro de la ciudad (m)"
   ]
  },
  {
   "cell_type": "markdown",
   "id": "f2d83d1f-7240-46a5-9d2c-939bea984147",
   "metadata": {},
   "source": [
    "Cambia la tarea original a una tarea de clasificación. Crea una nueva característica llamada price_class. Para precios mayores a $113 000, asigna price_class a 1. Para precios menores o iguales a \\\\$113 000, asigna 'price_class' a 0. Imprime las primeras cinco filas de la tabla (que ya están en precodificación)."
   ]
  },
  {
   "cell_type": "code",
   "execution_count": 2,
   "id": "e1e9072b-d71e-486b-bf4a-db4723ef198f",
   "metadata": {},
   "outputs": [],
   "source": [
    "df.loc[df['last_price'] > 113000, 'price_class'] = 1\n",
    "df.loc[df['last_price'] <= 113000, 'price_class'] = 0"
   ]
  },
  {
   "cell_type": "markdown",
   "id": "ec39817d-6315-4362-b404-6c0f51161f59",
   "metadata": {},
   "source": [
    "# División del conjunto de datos"
   ]
  },
  {
   "cell_type": "code",
   "execution_count": 3,
   "id": "b86bf44e-e918-4ba3-a274-b1d7a481eca3",
   "metadata": {},
   "outputs": [],
   "source": [
    "from sklearn.model_selection import train_test_split\n",
    "\n",
    "df_train, df_valid = train_test_split(df, test_size=0.25, random_state=12345, )"
   ]
  },
  {
   "cell_type": "code",
   "execution_count": 4,
   "id": "0915b400-965b-468e-9150-a3560556885f",
   "metadata": {},
   "outputs": [
    {
     "name": "stdout",
     "output_type": "stream",
     "text": [
      "(4871, 13)\n",
      "(4871,)\n",
      "(1624, 13)\n",
      "(1624,)\n"
     ]
    }
   ],
   "source": [
    "features_train = df_train.drop(['last_price', 'price_class'], axis=1)\n",
    "target_train = df_train['price_class']\n",
    "\n",
    "features_valid = df_valid.drop(['last_price', 'price_class'], axis=1)\n",
    "target_valid = df_valid['price_class']\n",
    "\n",
    "print(features_train.shape)\n",
    "print(target_train.shape)\n",
    "print(features_valid.shape)\n",
    "print(target_valid.shape)"
   ]
  },
  {
   "cell_type": "markdown",
   "id": "3195667b-1ed6-4b86-8abd-5ef976410c66",
   "metadata": {},
   "source": [
    "# DecisionTreeClassifier"
   ]
  },
  {
   "cell_type": "code",
   "execution_count": 5,
   "id": "7d21f916-af3c-4bf0-bd1a-958c77d304e9",
   "metadata": {},
   "outputs": [
    {
     "data": {
      "text/html": [
       "<style>#sk-container-id-1 {color: black;}#sk-container-id-1 pre{padding: 0;}#sk-container-id-1 div.sk-toggleable {background-color: white;}#sk-container-id-1 label.sk-toggleable__label {cursor: pointer;display: block;width: 100%;margin-bottom: 0;padding: 0.3em;box-sizing: border-box;text-align: center;}#sk-container-id-1 label.sk-toggleable__label-arrow:before {content: \"▸\";float: left;margin-right: 0.25em;color: #696969;}#sk-container-id-1 label.sk-toggleable__label-arrow:hover:before {color: black;}#sk-container-id-1 div.sk-estimator:hover label.sk-toggleable__label-arrow:before {color: black;}#sk-container-id-1 div.sk-toggleable__content {max-height: 0;max-width: 0;overflow: hidden;text-align: left;background-color: #f0f8ff;}#sk-container-id-1 div.sk-toggleable__content pre {margin: 0.2em;color: black;border-radius: 0.25em;background-color: #f0f8ff;}#sk-container-id-1 input.sk-toggleable__control:checked~div.sk-toggleable__content {max-height: 200px;max-width: 100%;overflow: auto;}#sk-container-id-1 input.sk-toggleable__control:checked~label.sk-toggleable__label-arrow:before {content: \"▾\";}#sk-container-id-1 div.sk-estimator input.sk-toggleable__control:checked~label.sk-toggleable__label {background-color: #d4ebff;}#sk-container-id-1 div.sk-label input.sk-toggleable__control:checked~label.sk-toggleable__label {background-color: #d4ebff;}#sk-container-id-1 input.sk-hidden--visually {border: 0;clip: rect(1px 1px 1px 1px);clip: rect(1px, 1px, 1px, 1px);height: 1px;margin: -1px;overflow: hidden;padding: 0;position: absolute;width: 1px;}#sk-container-id-1 div.sk-estimator {font-family: monospace;background-color: #f0f8ff;border: 1px dotted black;border-radius: 0.25em;box-sizing: border-box;margin-bottom: 0.5em;}#sk-container-id-1 div.sk-estimator:hover {background-color: #d4ebff;}#sk-container-id-1 div.sk-parallel-item::after {content: \"\";width: 100%;border-bottom: 1px solid gray;flex-grow: 1;}#sk-container-id-1 div.sk-label:hover label.sk-toggleable__label {background-color: #d4ebff;}#sk-container-id-1 div.sk-serial::before {content: \"\";position: absolute;border-left: 1px solid gray;box-sizing: border-box;top: 0;bottom: 0;left: 50%;z-index: 0;}#sk-container-id-1 div.sk-serial {display: flex;flex-direction: column;align-items: center;background-color: white;padding-right: 0.2em;padding-left: 0.2em;position: relative;}#sk-container-id-1 div.sk-item {position: relative;z-index: 1;}#sk-container-id-1 div.sk-parallel {display: flex;align-items: stretch;justify-content: center;background-color: white;position: relative;}#sk-container-id-1 div.sk-item::before, #sk-container-id-1 div.sk-parallel-item::before {content: \"\";position: absolute;border-left: 1px solid gray;box-sizing: border-box;top: 0;bottom: 0;left: 50%;z-index: -1;}#sk-container-id-1 div.sk-parallel-item {display: flex;flex-direction: column;z-index: 1;position: relative;background-color: white;}#sk-container-id-1 div.sk-parallel-item:first-child::after {align-self: flex-end;width: 50%;}#sk-container-id-1 div.sk-parallel-item:last-child::after {align-self: flex-start;width: 50%;}#sk-container-id-1 div.sk-parallel-item:only-child::after {width: 0;}#sk-container-id-1 div.sk-dashed-wrapped {border: 1px dashed gray;margin: 0 0.4em 0.5em 0.4em;box-sizing: border-box;padding-bottom: 0.4em;background-color: white;}#sk-container-id-1 div.sk-label label {font-family: monospace;font-weight: bold;display: inline-block;line-height: 1.2em;}#sk-container-id-1 div.sk-label-container {text-align: center;}#sk-container-id-1 div.sk-container {/* jupyter's `normalize.less` sets `[hidden] { display: none; }` but bootstrap.min.css set `[hidden] { display: none !important; }` so we also need the `!important` here to be able to override the default hidden behavior on the sphinx rendered scikit-learn.org. See: https://github.com/scikit-learn/scikit-learn/issues/21755 */display: inline-block !important;position: relative;}#sk-container-id-1 div.sk-text-repr-fallback {display: none;}</style><div id=\"sk-container-id-1\" class=\"sk-top-container\"><div class=\"sk-text-repr-fallback\"><pre>DecisionTreeClassifier(max_depth=5, random_state=12345)</pre><b>In a Jupyter environment, please rerun this cell to show the HTML representation or trust the notebook. <br />On GitHub, the HTML representation is unable to render, please try loading this page with nbviewer.org.</b></div><div class=\"sk-container\" hidden><div class=\"sk-item\"><div class=\"sk-estimator sk-toggleable\"><input class=\"sk-toggleable__control sk-hidden--visually\" id=\"sk-estimator-id-1\" type=\"checkbox\" checked><label for=\"sk-estimator-id-1\" class=\"sk-toggleable__label sk-toggleable__label-arrow\">DecisionTreeClassifier</label><div class=\"sk-toggleable__content\"><pre>DecisionTreeClassifier(max_depth=5, random_state=12345)</pre></div></div></div></div></div>"
      ],
      "text/plain": [
       "DecisionTreeClassifier(max_depth=5, random_state=12345)"
      ]
     },
     "execution_count": 5,
     "metadata": {},
     "output_type": "execute_result"
    }
   ],
   "source": [
    "from sklearn.tree import DecisionTreeClassifier\n",
    "\n",
    "model_DTC = DecisionTreeClassifier(random_state=12345, max_depth=5)\n",
    "\n",
    "model_DTC.fit(features_train,target_train)"
   ]
  },
  {
   "cell_type": "markdown",
   "id": "7ec70323-526d-412c-8006-485fb712bd46",
   "metadata": {},
   "source": []
  },
  {
   "cell_type": "markdown",
   "id": "616980d0-23ac-4bd2-92d2-347839ba1f9c",
   "metadata": {},
   "source": [
    "# Bosque aleatorio"
   ]
  },
  {
   "cell_type": "code",
   "execution_count": 6,
   "id": "f369e71e-3b82-4de8-a147-456e9557e9c5",
   "metadata": {},
   "outputs": [
    {
     "data": {
      "text/html": [
       "<style>#sk-container-id-2 {color: black;}#sk-container-id-2 pre{padding: 0;}#sk-container-id-2 div.sk-toggleable {background-color: white;}#sk-container-id-2 label.sk-toggleable__label {cursor: pointer;display: block;width: 100%;margin-bottom: 0;padding: 0.3em;box-sizing: border-box;text-align: center;}#sk-container-id-2 label.sk-toggleable__label-arrow:before {content: \"▸\";float: left;margin-right: 0.25em;color: #696969;}#sk-container-id-2 label.sk-toggleable__label-arrow:hover:before {color: black;}#sk-container-id-2 div.sk-estimator:hover label.sk-toggleable__label-arrow:before {color: black;}#sk-container-id-2 div.sk-toggleable__content {max-height: 0;max-width: 0;overflow: hidden;text-align: left;background-color: #f0f8ff;}#sk-container-id-2 div.sk-toggleable__content pre {margin: 0.2em;color: black;border-radius: 0.25em;background-color: #f0f8ff;}#sk-container-id-2 input.sk-toggleable__control:checked~div.sk-toggleable__content {max-height: 200px;max-width: 100%;overflow: auto;}#sk-container-id-2 input.sk-toggleable__control:checked~label.sk-toggleable__label-arrow:before {content: \"▾\";}#sk-container-id-2 div.sk-estimator input.sk-toggleable__control:checked~label.sk-toggleable__label {background-color: #d4ebff;}#sk-container-id-2 div.sk-label input.sk-toggleable__control:checked~label.sk-toggleable__label {background-color: #d4ebff;}#sk-container-id-2 input.sk-hidden--visually {border: 0;clip: rect(1px 1px 1px 1px);clip: rect(1px, 1px, 1px, 1px);height: 1px;margin: -1px;overflow: hidden;padding: 0;position: absolute;width: 1px;}#sk-container-id-2 div.sk-estimator {font-family: monospace;background-color: #f0f8ff;border: 1px dotted black;border-radius: 0.25em;box-sizing: border-box;margin-bottom: 0.5em;}#sk-container-id-2 div.sk-estimator:hover {background-color: #d4ebff;}#sk-container-id-2 div.sk-parallel-item::after {content: \"\";width: 100%;border-bottom: 1px solid gray;flex-grow: 1;}#sk-container-id-2 div.sk-label:hover label.sk-toggleable__label {background-color: #d4ebff;}#sk-container-id-2 div.sk-serial::before {content: \"\";position: absolute;border-left: 1px solid gray;box-sizing: border-box;top: 0;bottom: 0;left: 50%;z-index: 0;}#sk-container-id-2 div.sk-serial {display: flex;flex-direction: column;align-items: center;background-color: white;padding-right: 0.2em;padding-left: 0.2em;position: relative;}#sk-container-id-2 div.sk-item {position: relative;z-index: 1;}#sk-container-id-2 div.sk-parallel {display: flex;align-items: stretch;justify-content: center;background-color: white;position: relative;}#sk-container-id-2 div.sk-item::before, #sk-container-id-2 div.sk-parallel-item::before {content: \"\";position: absolute;border-left: 1px solid gray;box-sizing: border-box;top: 0;bottom: 0;left: 50%;z-index: -1;}#sk-container-id-2 div.sk-parallel-item {display: flex;flex-direction: column;z-index: 1;position: relative;background-color: white;}#sk-container-id-2 div.sk-parallel-item:first-child::after {align-self: flex-end;width: 50%;}#sk-container-id-2 div.sk-parallel-item:last-child::after {align-self: flex-start;width: 50%;}#sk-container-id-2 div.sk-parallel-item:only-child::after {width: 0;}#sk-container-id-2 div.sk-dashed-wrapped {border: 1px dashed gray;margin: 0 0.4em 0.5em 0.4em;box-sizing: border-box;padding-bottom: 0.4em;background-color: white;}#sk-container-id-2 div.sk-label label {font-family: monospace;font-weight: bold;display: inline-block;line-height: 1.2em;}#sk-container-id-2 div.sk-label-container {text-align: center;}#sk-container-id-2 div.sk-container {/* jupyter's `normalize.less` sets `[hidden] { display: none; }` but bootstrap.min.css set `[hidden] { display: none !important; }` so we also need the `!important` here to be able to override the default hidden behavior on the sphinx rendered scikit-learn.org. See: https://github.com/scikit-learn/scikit-learn/issues/21755 */display: inline-block !important;position: relative;}#sk-container-id-2 div.sk-text-repr-fallback {display: none;}</style><div id=\"sk-container-id-2\" class=\"sk-top-container\"><div class=\"sk-text-repr-fallback\"><pre>RandomForestClassifier(n_estimators=5, random_state=54321)</pre><b>In a Jupyter environment, please rerun this cell to show the HTML representation or trust the notebook. <br />On GitHub, the HTML representation is unable to render, please try loading this page with nbviewer.org.</b></div><div class=\"sk-container\" hidden><div class=\"sk-item\"><div class=\"sk-estimator sk-toggleable\"><input class=\"sk-toggleable__control sk-hidden--visually\" id=\"sk-estimator-id-2\" type=\"checkbox\" checked><label for=\"sk-estimator-id-2\" class=\"sk-toggleable__label sk-toggleable__label-arrow\">RandomForestClassifier</label><div class=\"sk-toggleable__content\"><pre>RandomForestClassifier(n_estimators=5, random_state=54321)</pre></div></div></div></div></div>"
      ],
      "text/plain": [
       "RandomForestClassifier(n_estimators=5, random_state=54321)"
      ]
     },
     "execution_count": 6,
     "metadata": {},
     "output_type": "execute_result"
    }
   ],
   "source": [
    "from sklearn.ensemble import RandomForestClassifier\n",
    "\n",
    "model_RFC = RandomForestClassifier(random_state=54321, n_estimators=5)\n",
    "\n",
    "model_RFC.fit(features_train, target_train)"
   ]
  },
  {
   "cell_type": "code",
   "execution_count": 7,
   "id": "6e5cf10e-5d86-41b8-952d-3c3c85fd2248",
   "metadata": {
    "scrolled": true
   },
   "outputs": [
    {
     "name": "stdout",
     "output_type": "stream",
     "text": [
      "La exactitud del mejor modelo en el conjunto de validación (n_estimators = 9): 0.8879310344827587\n"
     ]
    }
   ],
   "source": [
    "# Función manual para la selección del mejor número de estimadores\n",
    "\n",
    "best_score = 0\n",
    "best_est = 0\n",
    "for est in range(1, 11): \n",
    "    \n",
    "    model = RandomForestClassifier(random_state=54321, n_estimators=est) \n",
    "    model.fit(features_train, target_train) \n",
    "    score = model.score(features_valid, target_valid) \n",
    "    if score > best_score:\n",
    "        best_score = score \n",
    "        best_est = est \n",
    "\n",
    "print(\"La exactitud del mejor modelo en el conjunto de validación (n_estimators = {}): {}\".format(best_est, best_score))"
   ]
  },
  {
   "cell_type": "markdown",
   "id": "f1750779-a194-4b15-b6bf-aeaee3730d06",
   "metadata": {},
   "source": [
    "# Regresión logística"
   ]
  },
  {
   "cell_type": "code",
   "execution_count": 8,
   "id": "2ddc10aa-18d5-43ef-b282-5d6f5f02122c",
   "metadata": {},
   "outputs": [
    {
     "data": {
      "text/html": [
       "<style>#sk-container-id-3 {color: black;}#sk-container-id-3 pre{padding: 0;}#sk-container-id-3 div.sk-toggleable {background-color: white;}#sk-container-id-3 label.sk-toggleable__label {cursor: pointer;display: block;width: 100%;margin-bottom: 0;padding: 0.3em;box-sizing: border-box;text-align: center;}#sk-container-id-3 label.sk-toggleable__label-arrow:before {content: \"▸\";float: left;margin-right: 0.25em;color: #696969;}#sk-container-id-3 label.sk-toggleable__label-arrow:hover:before {color: black;}#sk-container-id-3 div.sk-estimator:hover label.sk-toggleable__label-arrow:before {color: black;}#sk-container-id-3 div.sk-toggleable__content {max-height: 0;max-width: 0;overflow: hidden;text-align: left;background-color: #f0f8ff;}#sk-container-id-3 div.sk-toggleable__content pre {margin: 0.2em;color: black;border-radius: 0.25em;background-color: #f0f8ff;}#sk-container-id-3 input.sk-toggleable__control:checked~div.sk-toggleable__content {max-height: 200px;max-width: 100%;overflow: auto;}#sk-container-id-3 input.sk-toggleable__control:checked~label.sk-toggleable__label-arrow:before {content: \"▾\";}#sk-container-id-3 div.sk-estimator input.sk-toggleable__control:checked~label.sk-toggleable__label {background-color: #d4ebff;}#sk-container-id-3 div.sk-label input.sk-toggleable__control:checked~label.sk-toggleable__label {background-color: #d4ebff;}#sk-container-id-3 input.sk-hidden--visually {border: 0;clip: rect(1px 1px 1px 1px);clip: rect(1px, 1px, 1px, 1px);height: 1px;margin: -1px;overflow: hidden;padding: 0;position: absolute;width: 1px;}#sk-container-id-3 div.sk-estimator {font-family: monospace;background-color: #f0f8ff;border: 1px dotted black;border-radius: 0.25em;box-sizing: border-box;margin-bottom: 0.5em;}#sk-container-id-3 div.sk-estimator:hover {background-color: #d4ebff;}#sk-container-id-3 div.sk-parallel-item::after {content: \"\";width: 100%;border-bottom: 1px solid gray;flex-grow: 1;}#sk-container-id-3 div.sk-label:hover label.sk-toggleable__label {background-color: #d4ebff;}#sk-container-id-3 div.sk-serial::before {content: \"\";position: absolute;border-left: 1px solid gray;box-sizing: border-box;top: 0;bottom: 0;left: 50%;z-index: 0;}#sk-container-id-3 div.sk-serial {display: flex;flex-direction: column;align-items: center;background-color: white;padding-right: 0.2em;padding-left: 0.2em;position: relative;}#sk-container-id-3 div.sk-item {position: relative;z-index: 1;}#sk-container-id-3 div.sk-parallel {display: flex;align-items: stretch;justify-content: center;background-color: white;position: relative;}#sk-container-id-3 div.sk-item::before, #sk-container-id-3 div.sk-parallel-item::before {content: \"\";position: absolute;border-left: 1px solid gray;box-sizing: border-box;top: 0;bottom: 0;left: 50%;z-index: -1;}#sk-container-id-3 div.sk-parallel-item {display: flex;flex-direction: column;z-index: 1;position: relative;background-color: white;}#sk-container-id-3 div.sk-parallel-item:first-child::after {align-self: flex-end;width: 50%;}#sk-container-id-3 div.sk-parallel-item:last-child::after {align-self: flex-start;width: 50%;}#sk-container-id-3 div.sk-parallel-item:only-child::after {width: 0;}#sk-container-id-3 div.sk-dashed-wrapped {border: 1px dashed gray;margin: 0 0.4em 0.5em 0.4em;box-sizing: border-box;padding-bottom: 0.4em;background-color: white;}#sk-container-id-3 div.sk-label label {font-family: monospace;font-weight: bold;display: inline-block;line-height: 1.2em;}#sk-container-id-3 div.sk-label-container {text-align: center;}#sk-container-id-3 div.sk-container {/* jupyter's `normalize.less` sets `[hidden] { display: none; }` but bootstrap.min.css set `[hidden] { display: none !important; }` so we also need the `!important` here to be able to override the default hidden behavior on the sphinx rendered scikit-learn.org. See: https://github.com/scikit-learn/scikit-learn/issues/21755 */display: inline-block !important;position: relative;}#sk-container-id-3 div.sk-text-repr-fallback {display: none;}</style><div id=\"sk-container-id-3\" class=\"sk-top-container\"><div class=\"sk-text-repr-fallback\"><pre>LogisticRegression(random_state=54321, solver=&#x27;liblinear&#x27;)</pre><b>In a Jupyter environment, please rerun this cell to show the HTML representation or trust the notebook. <br />On GitHub, the HTML representation is unable to render, please try loading this page with nbviewer.org.</b></div><div class=\"sk-container\" hidden><div class=\"sk-item\"><div class=\"sk-estimator sk-toggleable\"><input class=\"sk-toggleable__control sk-hidden--visually\" id=\"sk-estimator-id-3\" type=\"checkbox\" checked><label for=\"sk-estimator-id-3\" class=\"sk-toggleable__label sk-toggleable__label-arrow\">LogisticRegression</label><div class=\"sk-toggleable__content\"><pre>LogisticRegression(random_state=54321, solver=&#x27;liblinear&#x27;)</pre></div></div></div></div></div>"
      ],
      "text/plain": [
       "LogisticRegression(random_state=54321, solver='liblinear')"
      ]
     },
     "execution_count": 8,
     "metadata": {},
     "output_type": "execute_result"
    }
   ],
   "source": [
    "from sklearn.linear_model import LogisticRegression\n",
    "\n",
    "model_LR = LogisticRegression(random_state=54321, solver='liblinear')\n",
    "model_LR.fit(features_train, target_train)"
   ]
  },
  {
   "cell_type": "markdown",
   "id": "ea09eb26-80c7-4dab-a3e3-80a430bd3f0a",
   "metadata": {},
   "source": [
    "# Calidad del modelo"
   ]
  },
  {
   "cell_type": "code",
   "execution_count": 9,
   "id": "d1894f30-4e02-4c25-b01f-8c603a4e3ee0",
   "metadata": {},
   "outputs": [
    {
     "name": "stdout",
     "output_type": "stream",
     "text": [
      "Errores: 507\n",
      "Accuracy: 0.8959145965920755\n"
     ]
    }
   ],
   "source": [
    "# VERSION 1: Con funciones\n",
    "\n",
    "target_predictions = model_DTC.predict(features_train)\n",
    "\n",
    "def error_count(answers, predictions):\n",
    "    count = 0\n",
    "    for i in range(len(answers)):\n",
    "        if answers[i] != predictions[i]:\n",
    "            count += 1\n",
    "    return count\n",
    "\n",
    "def accuracy(answers, predictions):\n",
    "    errors = error_count(answers, predictions)\n",
    "    return (len(answers) - errors) / len(predictions)\n",
    "\n",
    "print('Errores:', error_count(target_train.values, target_predictions))\n",
    "print('Accuracy:', accuracy(target_train.values, target_predictions))"
   ]
  },
  {
   "cell_type": "markdown",
   "id": "2948d37a-58c7-4be5-afae-2cec58ddfd2b",
   "metadata": {},
   "source": [
    "AQUI\n",
    "\n",
    "PRECISION (PRECISION)\n",
    "SENSIBILIDAD (RECALL)\n",
    "EXACTITUD (ACCURACY)"
   ]
  },
  {
   "cell_type": "code",
   "execution_count": 10,
   "id": "afe379c3-0fab-4d69-9731-1280aa405780",
   "metadata": {},
   "outputs": [
    {
     "name": "stdout",
     "output_type": "stream",
     "text": [
      "0.8959145965920755\n"
     ]
    }
   ],
   "source": [
    "# VERSION 2: Con una librería\n",
    "\n",
    "from sklearn.metrics import accuracy_score\n",
    "\n",
    "target_predictions = model_DTC.predict(features_train)\n",
    "\n",
    "accuracy = accuracy_score(target_train, target_predictions)\n",
    "print(accuracy)"
   ]
  },
  {
   "cell_type": "markdown",
   "id": "68b48718-bf53-4708-8250-a961ab16a5ac",
   "metadata": {},
   "source": [
    "accuracy_score is a standalone function from sklearn.metrics that directly compares the true labels (target_train) with predicted labels (target_predictions). It requires you to first generate predictions externally (e.g., using model.predict(features_train)) and then calculate the accuracy. It is more flexible because you can compute accuracy for any set of true and predicted labels, including predictions from different models or manual predictions."
   ]
  },
  {
   "cell_type": "markdown",
   "id": "b912820d-b605-4814-94ff-7aa212075c07",
   "metadata": {},
   "source": [
    "Explorar más esa librería"
   ]
  },
  {
   "cell_type": "code",
   "execution_count": 11,
   "id": "335aaf3f-027d-4f6f-87d9-ccbc131996ba",
   "metadata": {},
   "outputs": [
    {
     "name": "stdout",
     "output_type": "stream",
     "text": [
      "0.8959145965920755\n"
     ]
    }
   ],
   "source": [
    "# OPCIÓN 3\n",
    "\n",
    "score = model_DTC.score(features_train, target_train) \n",
    "print(score)"
   ]
  },
  {
   "cell_type": "markdown",
   "id": "0e809ec4-88e5-4a5c-a1f6-5d460bc20b4e",
   "metadata": {},
   "source": [
    "model.score is a method of the trained model object that internally makes predictions on the input features (features_train) and compares those predictions to the true labels (target_train) to compute the accuracy. It combines prediction and accuracy calculation in one call and is less flexible but more convenient for quick evaluation directly on the model."
   ]
  },
  {
   "cell_type": "code",
   "execution_count": null,
   "id": "6e60bd24-a1aa-48f8-927a-325d85f69d1e",
   "metadata": {},
   "outputs": [],
   "source": []
  }
 ],
 "metadata": {
  "kernelspec": {
   "display_name": "Python 3 (ipykernel)",
   "language": "python",
   "name": "python3"
  },
  "language_info": {
   "codemirror_mode": {
    "name": "ipython",
    "version": 3
   },
   "file_extension": ".py",
   "mimetype": "text/x-python",
   "name": "python",
   "nbconvert_exporter": "python",
   "pygments_lexer": "ipython3",
   "version": "3.8.10"
  }
 },
 "nbformat": 4,
 "nbformat_minor": 5
}
