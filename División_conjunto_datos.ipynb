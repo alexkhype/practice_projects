{
 "cells": [
  {
   "cell_type": "markdown",
   "id": "c27bfb15-7dca-4def-bf01-bd205e04822b",
   "metadata": {},
   "source": [
    "# DIVISIÓN DEL CONJUNTO DE DATOS"
   ]
  },
  {
   "cell_type": "markdown",
   "id": "ae2614a7-43a3-48ca-9106-18b09681e79d",
   "metadata": {},
   "source": [
    "## Concepto básico de división de datos\n",
    "\n",
    "La división de un conjunto de datos en **train**, **validation** y **test** es fundamental en el aprendizaje automático para:\n",
    "\n",
    " *   Entrenar el modelo con datos de entrenamiento.\n",
    "\n",
    "  *  Ajustar hiperparámetros y prevenir sobreajuste usando datos de validación.\n",
    "\n",
    "  *  Evaluar el desempeño final del modelo con datos de prueba que el modelo no ha visto antes.\n"
   ]
  },
  {
   "cell_type": "markdown",
   "id": "6c08ed56-fe0e-4b54-90cd-48577e798ee6",
   "metadata": {},
   "source": [
    "## División típica y razones\n",
    "\n",
    "1) **El conjunto de prueba existe (o existirá en el futuro cercano) pero no está disponible por el momento.** La proporción ideal es 3:1. Esto significa que un 75 % es para el conjunto de entrenamiento y un 25 % es para el conjunto de validación. Este escenario se usará en nuestra plataforma de entrenamiento en línea.\n",
    "\n",
    "2) **El conjunto de prueba no existe.** En ese caso los datos fuente deben dividirse en tres partes: entrenamiento, validación y prueba. Usualmente, el tamaño del conjunto de validación y del de prueba son iguales. Esto da como resultado una proporción de datos fuente de 3:1:1\n",
    "\n",
    "\n",
    "*    **Train:** 60-80% de los datos para entrenar.\n",
    "\n",
    "*   **Validation:** 10-20% para ajustar parámetros (no siempre se usa, a veces se usa validación cruzada).\n",
    "\n",
    "*    **Test:** 10-20% para evaluación final independiente.\n"
   ]
  },
  {
   "cell_type": "markdown",
   "id": "2dcc448c-8e28-43f3-8030-f105cccec31c",
   "metadata": {},
   "source": [
    "## Métodos de división\n",
    "\n",
    "*    División aleatoria con la función `train_test_split` de `Scikit-learn`.\n",
    "\n",
    "*    División manual con `Pandas`, útil para datos temporales o donde el orden importa.\n",
    "\n",
    "*    Estratificación para asegurar que la distribución de clases sea similar en cada subconjunto.\n"
   ]
  },
  {
   "cell_type": "markdown",
   "id": "3ecb7591-d392-4b5f-8684-5e00d79695b1",
   "metadata": {},
   "source": [
    "## Explicación de los parámetros"
   ]
  },
  {
   "cell_type": "markdown",
   "id": "1fc621e1-1f24-42b9-9ffe-ba453561ea92",
   "metadata": {},
   "source": [
    "    train_test_split(*arrays, test_size=None, train_size=None, \n",
    "        random_state=None, shuffle=True, stratify=None)"
   ]
  },
  {
   "cell_type": "markdown",
   "id": "c5e2d098-49c6-48c7-827a-10327bc1e619",
   "metadata": {},
   "source": [
    "*    `*arrays`: Secuencia de arreglos o dataframes (X, y, etc.) que se quieren dividir. Deben tener la misma longitud o número de filas.\n",
    "\n",
    "*    `test_size`: Proporción (valor float entre 0 y 1) o número entero del conjunto de datos que se reservará para el conjunto de prueba (test). Por ejemplo, `0.2` significa reservar el 20% para test. Si es `None`, se asigna automáticamente según `train_size` o el valor por defecto (`0.25`).\n",
    "\n",
    "*    `train_size`: Proporción o número entero del conjunto de datos que se reservará para el conjunto de entrenamiento (train). Si es `None`, se usa el complemento del tamaño del `test_size`.\n",
    "\n",
    "*    `random_state`: Número entero para fijar la semilla del generador aleatorio y así obtener divisiones reproducibles entre ejecuciones.\n",
    "\n",
    "*    `shuffle`: Booleano (`True` o `False`) que indica si se deben mezclar los datos antes de dividir. Por defecto es `True` para evitar sesgos, pero se puede poner `False` en data temporales.\n",
    "\n",
    "*    `stratify`: Array que indica la variable con la que se quiere estratificar la división. Normalmente se usa la variable objetivo (y) para asegurar que la proporción de clases quede igual en train y test."
   ]
  },
  {
   "cell_type": "markdown",
   "id": "66bab52a-9951-4bad-93a1-a6a6976eaa45",
   "metadata": {},
   "source": [
    "## Ejemplo paso a paso\n",
    "\n",
    "Supongamos un DataFrame df con variables predictoras y una variable objetivo (target) y.\n",
    "\n",
    "### Paso 1: Separar características y objetivo"
   ]
  },
  {
   "cell_type": "code",
   "execution_count": 1,
   "id": "8b5a3b5a-28b2-4428-9bb1-77356b586f8f",
   "metadata": {},
   "outputs": [],
   "source": [
    "import pandas as pd\n",
    "from sklearn.model_selection import train_test_split\n",
    "\n",
    "# Datos de ejemplo\n",
    "df = pd.DataFrame({\n",
    "    'feature1': range(100),\n",
    "    'feature2': range(100, 200),\n",
    "    'target': [0]*50 + [1]*50\n",
    "})\n",
    "\n",
    "X = df.drop('target', axis=1)\n",
    "y = df['target']"
   ]
  },
  {
   "cell_type": "markdown",
   "id": "b5495fce-30be-4a88-942a-e540cf268aa3",
   "metadata": {},
   "source": [
    "### Paso 2: Dividir en training+validation y test"
   ]
  },
  {
   "cell_type": "code",
   "execution_count": 2,
   "id": "d3e77253-112c-4f3e-8e9f-070a13797185",
   "metadata": {},
   "outputs": [],
   "source": [
    "X_train_val, X_test, y_train_val, y_test = train_test_split(\n",
    "    X, y, test_size=0.2, random_state=42, stratify=y\n",
    "    )"
   ]
  },
  {
   "cell_type": "markdown",
   "id": "f2a030f2-1ab3-411d-a7bc-2c77559dbfab",
   "metadata": {},
   "source": [
    "Aquí separamos el 20% para test, usando stratify=y para mantener la proporción de clases."
   ]
  },
  {
   "cell_type": "markdown",
   "id": "f6ed953d-563d-4dd8-94fa-28b27063fd01",
   "metadata": {},
   "source": [
    "### Paso 3: Dividir training+validation en training y validation"
   ]
  },
  {
   "cell_type": "code",
   "execution_count": 3,
   "id": "eb4e3b63-5f92-41a5-9310-c9400bdad4c5",
   "metadata": {},
   "outputs": [],
   "source": [
    "X_train, X_val, y_train, y_val = train_test_split(\n",
    "    X_train_val, y_train_val, test_size=0.25, random_state=42, stratify=y_train_val\n",
    ")"
   ]
  },
  {
   "cell_type": "markdown",
   "id": "9bfa21bb-5723-44da-a515-578d79a3077a",
   "metadata": {},
   "source": [
    "Aquí se toma el 25% del 80% inicial (que es 20% total) como validación."
   ]
  },
  {
   "cell_type": "markdown",
   "id": "3b71f649-76bc-4d14-8bac-1b15eb463179",
   "metadata": {},
   "source": [
    "### Paso 4: Confirmar tamaños"
   ]
  },
  {
   "cell_type": "code",
   "execution_count": 4,
   "id": "97e664ec-307e-4ac2-87fc-f401328085ce",
   "metadata": {},
   "outputs": [
    {
     "name": "stdout",
     "output_type": "stream",
     "text": [
      "Train size: 60\n",
      "Validation size: 20\n",
      "Test size: 20\n"
     ]
    }
   ],
   "source": [
    "print(f\"Train size: {len(X_train)}\")\n",
    "print(f\"Validation size: {len(X_val)}\")\n",
    "print(f\"Test size: {len(X_test)}\")"
   ]
  },
  {
   "cell_type": "markdown",
   "id": "2d2b0d9b-0f30-477c-9529-3b530ab7697e",
   "metadata": {},
   "source": [
    "## División manual para datos temporales\n",
    "\n",
    "Cuando el orden importa (por ejemplo, series temporales), no se recomienda separar aleatoriamente. En su lugar, se usa la división secuencial:"
   ]
  },
  {
   "cell_type": "code",
   "execution_count": 5,
   "id": "de005b54-b31f-4a16-92c0-e7d54cdcb781",
   "metadata": {},
   "outputs": [
    {
     "name": "stdout",
     "output_type": "stream",
     "text": [
      "Train size: 70\n",
      "Validation size: 15\n",
      "Test size: 15\n"
     ]
    }
   ],
   "source": [
    "p_train = 0.7\n",
    "p_val = 0.15\n",
    "\n",
    "train = df[:int(len(df) * p_train)] # [:70]\n",
    "val = df[int(len(df) * p_train) : int(len(df) * (p_train + p_val))] # [70:85]\n",
    "test = df[int(len(df) * (p_train + p_val)):] # [85:]\n",
    "\n",
    "print(f\"Train size: {len(train)}\")\n",
    "print(f\"Validation size: {len(val)}\")\n",
    "print(f\"Test size: {len(test)}\")"
   ]
  },
  {
   "cell_type": "markdown",
   "id": "00f6ce1e-6765-45c4-97d7-308ea5cd69c9",
   "metadata": {},
   "source": [
    "## Detalles importantes y consejos\n",
    "\n",
    "*    Fijar random_state para reproducibilidad.\n",
    "\n",
    "*    Usar stratify si la variable objetivo es categórica para evitar desbalance.\n",
    "\n",
    "*    Validación cruzada puede sustituir validación si se prefiere.\n",
    "\n",
    "*    Asegurarse que ningún dato esté duplicado entre sets.\n"
   ]
  }
 ],
 "metadata": {
  "kernelspec": {
   "display_name": "Python 3 (ipykernel)",
   "language": "python",
   "name": "python3"
  },
  "language_info": {
   "codemirror_mode": {
    "name": "ipython",
    "version": 3
   },
   "file_extension": ".py",
   "mimetype": "text/x-python",
   "name": "python",
   "nbconvert_exporter": "python",
   "pygments_lexer": "ipython3",
   "version": "3.8.10"
  }
 },
 "nbformat": 4,
 "nbformat_minor": 5
}
