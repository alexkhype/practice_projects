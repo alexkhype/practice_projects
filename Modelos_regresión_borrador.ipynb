{
 "cells": [
  {
   "cell_type": "markdown",
   "id": "f63159cd-0cad-44fa-a261-e412f86ec85b",
   "metadata": {},
   "source": [
    "# Modelos de regresión"
   ]
  },
  {
   "cell_type": "markdown",
   "id": "9b8c2dae-3ce2-44c2-b5bd-587ba85a1869",
   "metadata": {},
   "source": [
    "## Carga de df"
   ]
  },
  {
   "cell_type": "code",
   "execution_count": 1,
   "id": "11812458-3bec-4c20-8d1c-3af9403294d2",
   "metadata": {},
   "outputs": [],
   "source": [
    "import pandas as pd\n",
    "from sklearn.metrics import mean_squared_error\n",
    "from sklearn.model_selection import train_test_split\n",
    "\n",
    "df = pd.read_csv('https://practicum-content.s3.us-west-1.amazonaws.com/datasets/train_data_us.csv')\n",
    "\n",
    "features = df.drop(['last_price'], axis=1)\n",
    "target = df['last_price'] / 100000\n",
    "\n",
    "features_train, features_valid, target_train, target_valid = train_test_split(\n",
    "    features, target, test_size=0.25, random_state=12345)"
   ]
  },
  {
   "cell_type": "markdown",
   "id": "e5f53e09-d6b2-4f99-bdbd-dfdff3db71b2",
   "metadata": {},
   "source": [
    "# Decision Tree Regressor"
   ]
  },
  {
   "cell_type": "code",
   "execution_count": 2,
   "id": "5ac57bf4-f673-407d-88aa-3319a5387af7",
   "metadata": {},
   "outputs": [
    {
     "name": "stdout",
     "output_type": "stream",
     "text": [
      "RECM del DecisionTreeRegressor: 1.3082586437879251\n"
     ]
    }
   ],
   "source": [
    "from sklearn.tree import DecisionTreeRegressor\n",
    "\n",
    "model = DecisionTreeRegressor(random_state=12345, max_depth=5)\n",
    "model.fit(features_train, target_train) \n",
    "    \n",
    "predictions_valid = model.predict(features_valid) \n",
    "result = mean_squared_error(target_valid, predictions_valid, squared=False)\n",
    "\n",
    "print(f'RECM del DecisionTreeRegressor: {result}')"
   ]
  },
  {
   "cell_type": "markdown",
   "id": "01319bed-6e09-4ea8-90d7-47f0446c53c6",
   "metadata": {},
   "source": [
    "# Random Forest Regressor"
   ]
  },
  {
   "cell_type": "code",
   "execution_count": 3,
   "id": "8b2a625d-3f07-42f4-bf2b-fae8e1cc44e1",
   "metadata": {},
   "outputs": [
    {
     "name": "stdout",
     "output_type": "stream",
     "text": [
      "RECM del RandomForestRegressor: 1.41925941287708\n"
     ]
    }
   ],
   "source": [
    "from sklearn.ensemble import RandomForestRegressor\n",
    "\n",
    "model = RandomForestRegressor(random_state=12345, n_estimators=40, max_depth=10) # inicializa el constructor de modelos con los parámetros random_state=12345 y n_estimators=est\n",
    "model.fit(features_train, target_train) # entrena el modelo en el conjunto de entrenamiento\n",
    "\n",
    "predictions_valid = model.predict(features_valid) \n",
    "result = mean_squared_error(target_valid, predictions_valid, squared=False)\n",
    "\n",
    "print(f'RECM del RandomForestRegressor: {result}')"
   ]
  },
  {
   "cell_type": "markdown",
   "id": "0943c367-cd78-452e-8390-ed52d5ce97fc",
   "metadata": {},
   "source": [
    "# Linear Regression"
   ]
  },
  {
   "cell_type": "code",
   "execution_count": 4,
   "id": "433134e4-3e54-483e-9686-4b2630e3d9aa",
   "metadata": {},
   "outputs": [
    {
     "name": "stdout",
     "output_type": "stream",
     "text": [
      "RECM del modelo de regresión lineal en el conjunto de validación: 1.5452013394016275\n"
     ]
    }
   ],
   "source": [
    "from sklearn.linear_model import LinearRegression\n",
    "\n",
    "model = LinearRegression() # inicializa el constructor de modelos\n",
    "model.fit(features_train, target_train) # entrena el modelo en el conjunto de entrenamiento\n",
    "\n",
    "predictions_valid = model.predict(features_valid) # obtén las predicciones del modelo en el conjunto de validación\n",
    "result = mean_squared_error(target_valid, predictions_valid, squared=False) # calcula la RECM en el conjunto de validación\n",
    "\n",
    "print( \"RECM del modelo de regresión lineal en el conjunto de validación:\", result)"
   ]
  },
  {
   "cell_type": "code",
   "execution_count": null,
   "id": "399bc816-ea51-49f4-b730-b57e252b82f2",
   "metadata": {},
   "outputs": [],
   "source": []
  },
  {
   "cell_type": "markdown",
   "id": "48ff1ba4-d721-4b3f-a6b7-8cc2005307bb",
   "metadata": {},
   "source": [
    "### Elección de mejores hiperparámetros"
   ]
  },
  {
   "cell_type": "code",
   "execution_count": null,
   "id": "72a69b31-8c57-496d-857a-7134923cf61e",
   "metadata": {},
   "outputs": [],
   "source": [
    "# Función manual. Ejemplo con RandomForestRegressor\n",
    "\n",
    "best_model = None\n",
    "best_result = 10000\n",
    "best_est = 0\n",
    "best_depth = 0\n",
    "for est in range(1, 101, 10):\n",
    "    for depth in range (1, 11):\n",
    "        model = RandomForestRegressor(random_state=12345, n_estimators=est, max_depth=depth) # inicializa el constructor de modelos con los parámetros random_state=12345 y n_estimators=est\n",
    "        model.fit(features_train, target_train) # entrena el modelo en el conjunto de entrenamiento\n",
    "        predictions_valid = model.predict(features_valid) # obtén las predicciones del modelo en el conjunto de validación\n",
    "        result = mean_squared_error(target_valid, predictions_valid)**0.5\n",
    "        if result < best_result:\n",
    "            best_model = model\n",
    "            best_result = result\n",
    "            best_est = est\n",
    "            best_depth = depth\n",
    "\n",
    "print(\"RECM del mejor modelo en el conjunto de validación\", best_result, \"n_estimators:\", best_est, \"best_depth:\", depth)"
   ]
  }
 ],
 "metadata": {
  "kernelspec": {
   "display_name": "Python 3 (ipykernel)",
   "language": "python",
   "name": "python3"
  },
  "language_info": {
   "codemirror_mode": {
    "name": "ipython",
    "version": 3
   },
   "file_extension": ".py",
   "mimetype": "text/x-python",
   "name": "python",
   "nbconvert_exporter": "python",
   "pygments_lexer": "ipython3",
   "version": "3.8.10"
  }
 },
 "nbformat": 4,
 "nbformat_minor": 5
}
