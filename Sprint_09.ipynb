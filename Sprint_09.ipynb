{
 "cells": [
  {
   "cell_type": "markdown",
   "id": "f8386db4-3deb-46da-aac5-b41d601a0dde",
   "metadata": {},
   "source": [
    "**OBJETIVOS**\n",
    "\n",
    "*  Entender la terminología básica de machine learning, por ejemplo, la diferencia entre clasificación y regresión, o la diferencia entre un modelo y un algoritmo de aprendizaje.\n",
    "*    Dominar la librería scikit-learn y aprender a medir las métricas de evaluación y a entrenar modelos.\n",
    "*    Aprender a examinar modelos y elegir el mejor.\n",
    "*    Aprender terminología básica de machine learning\n",
    "*    Descubrir qué es el aprendizaje supervisado y aprender los tipos de ejercicios que existen\n",
    "*    Explorar la librería Scikit-learn"
   ]
  },
  {
   "cell_type": "code",
   "execution_count": 9,
   "id": "6255b426-3791-426a-8e3b-f02bb14143ad",
   "metadata": {},
   "outputs": [
    {
     "name": "stdout",
     "output_type": "stream",
     "text": [
      "(6495, 14)\n"
     ]
    },
    {
     "data": {
      "text/html": [
       "<div>\n",
       "<style scoped>\n",
       "    .dataframe tbody tr th:only-of-type {\n",
       "        vertical-align: middle;\n",
       "    }\n",
       "\n",
       "    .dataframe tbody tr th {\n",
       "        vertical-align: top;\n",
       "    }\n",
       "\n",
       "    .dataframe thead th {\n",
       "        text-align: right;\n",
       "    }\n",
       "</style>\n",
       "<table border=\"1\" class=\"dataframe\">\n",
       "  <thead>\n",
       "    <tr style=\"text-align: right;\">\n",
       "      <th></th>\n",
       "      <th>last_price</th>\n",
       "      <th>total_area</th>\n",
       "      <th>bedrooms</th>\n",
       "      <th>ceiling_height</th>\n",
       "      <th>floors_total</th>\n",
       "      <th>living_area</th>\n",
       "      <th>floor</th>\n",
       "      <th>bike_parking</th>\n",
       "      <th>studio</th>\n",
       "      <th>open_plan</th>\n",
       "      <th>kitchen_area</th>\n",
       "      <th>balcony</th>\n",
       "      <th>airports_nearest</th>\n",
       "      <th>cityCenters_nearest</th>\n",
       "    </tr>\n",
       "  </thead>\n",
       "  <tbody>\n",
       "    <tr>\n",
       "      <th>0</th>\n",
       "      <td>108000.0</td>\n",
       "      <td>59.0</td>\n",
       "      <td>2</td>\n",
       "      <td>2.87</td>\n",
       "      <td>4</td>\n",
       "      <td>31.5</td>\n",
       "      <td>2</td>\n",
       "      <td>0</td>\n",
       "      <td>0</td>\n",
       "      <td>0</td>\n",
       "      <td>6.6</td>\n",
       "      <td>0</td>\n",
       "      <td>20485</td>\n",
       "      <td>8180</td>\n",
       "    </tr>\n",
       "    <tr>\n",
       "      <th>1</th>\n",
       "      <td>264000.0</td>\n",
       "      <td>109.0</td>\n",
       "      <td>4</td>\n",
       "      <td>3.15</td>\n",
       "      <td>5</td>\n",
       "      <td>72.0</td>\n",
       "      <td>2</td>\n",
       "      <td>0</td>\n",
       "      <td>0</td>\n",
       "      <td>0</td>\n",
       "      <td>12.2</td>\n",
       "      <td>0</td>\n",
       "      <td>42683</td>\n",
       "      <td>8643</td>\n",
       "    </tr>\n",
       "    <tr>\n",
       "      <th>2</th>\n",
       "      <td>140000.0</td>\n",
       "      <td>74.5</td>\n",
       "      <td>3</td>\n",
       "      <td>2.58</td>\n",
       "      <td>10</td>\n",
       "      <td>49.0</td>\n",
       "      <td>9</td>\n",
       "      <td>0</td>\n",
       "      <td>0</td>\n",
       "      <td>0</td>\n",
       "      <td>10.8</td>\n",
       "      <td>0</td>\n",
       "      <td>14078</td>\n",
       "      <td>16670</td>\n",
       "    </tr>\n",
       "    <tr>\n",
       "      <th>3</th>\n",
       "      <td>64000.0</td>\n",
       "      <td>37.4</td>\n",
       "      <td>1</td>\n",
       "      <td>2.50</td>\n",
       "      <td>9</td>\n",
       "      <td>20.0</td>\n",
       "      <td>4</td>\n",
       "      <td>0</td>\n",
       "      <td>0</td>\n",
       "      <td>0</td>\n",
       "      <td>6.2</td>\n",
       "      <td>2</td>\n",
       "      <td>17792</td>\n",
       "      <td>17699</td>\n",
       "    </tr>\n",
       "    <tr>\n",
       "      <th>4</th>\n",
       "      <td>133000.0</td>\n",
       "      <td>64.9</td>\n",
       "      <td>3</td>\n",
       "      <td>2.65</td>\n",
       "      <td>12</td>\n",
       "      <td>41.9</td>\n",
       "      <td>11</td>\n",
       "      <td>0</td>\n",
       "      <td>0</td>\n",
       "      <td>0</td>\n",
       "      <td>10.4</td>\n",
       "      <td>0</td>\n",
       "      <td>14767</td>\n",
       "      <td>10573</td>\n",
       "    </tr>\n",
       "  </tbody>\n",
       "</table>\n",
       "</div>"
      ],
      "text/plain": [
       "   last_price  total_area  bedrooms  ceiling_height  floors_total  \\\n",
       "0    108000.0        59.0         2            2.87             4   \n",
       "1    264000.0       109.0         4            3.15             5   \n",
       "2    140000.0        74.5         3            2.58            10   \n",
       "3     64000.0        37.4         1            2.50             9   \n",
       "4    133000.0        64.9         3            2.65            12   \n",
       "\n",
       "   living_area  floor  bike_parking  studio  open_plan  kitchen_area  balcony  \\\n",
       "0         31.5      2             0       0          0           6.6        0   \n",
       "1         72.0      2             0       0          0          12.2        0   \n",
       "2         49.0      9             0       0          0          10.8        0   \n",
       "3         20.0      4             0       0          0           6.2        2   \n",
       "4         41.9     11             0       0          0          10.4        0   \n",
       "\n",
       "   airports_nearest  cityCenters_nearest  \n",
       "0             20485                 8180  \n",
       "1             42683                 8643  \n",
       "2             14078                16670  \n",
       "3             17792                17699  \n",
       "4             14767                10573  "
      ]
     },
     "metadata": {},
     "output_type": "display_data"
    }
   ],
   "source": [
    "import pandas as pd\n",
    "\n",
    "df = pd.read_csv('https://practicum-content.s3.us-west-1.amazonaws.com/datasets/train_data_us.csv')\n",
    "\n",
    "print(df.shape)\n",
    "display(df.head(5))"
   ]
  },
  {
   "cell_type": "markdown",
   "id": "23334513-ea58-44e2-bfbb-1f1d7d2a3624",
   "metadata": {},
   "source": [
    "Veamos los diferentes tipos de datos en nuestro conjunto de datos.\n",
    "\n",
    "    last_price — precio al cierre (en dólares)\n",
    "    total_area — superficie del apartamento en metros cuadrados (m²)\n",
    "    bedrooms — número de dormitorios\n",
    "    ceiling_height — altura del techo (m)\n",
    "    floors_total — número total de pisos en el edificio\n",
    "    living_area — superficie de sala de estar (m²)\n",
    "    floor — piso\n",
    "    bike_parking — estacionamiento de bicicletas en el edificio (tipo de dato booleano)\n",
    "    is_studio — la propiedad es un estudio (tipo de dato booleano)\n",
    "    is_open_plan — plan abierto (tipo de dato booleano)\n",
    "    kitchen_area — área de cocina (m²)\n",
    "    balconies — número de balcones\n",
    "    airport_dist — distancia al aeropuerto más cercano en metros (m)\n",
    "    city_center_dist — distancia al centro de la ciudad (m)"
   ]
  },
  {
   "cell_type": "markdown",
   "id": "3f02ccd8-bb02-4e56-a9c1-bfce0810c165",
   "metadata": {},
   "source": [
    "* aprendizaje supervisado. El \"maestro\" plantea preguntas (características) y da respuestas (el objetivo).\n",
    "* prendizaje no supervisado: sin objetivo\n",
    "* Aprendizaje semisupervisado: solo una parte de los datos de entrenamiento conoce el objetivo\n",
    "* Recomendación: los usuarios y los elementos reemplazan las funciones y las observaciones (algo que puedas recomendar, por ejemplo, películas o vecindarios)."
   ]
  },
  {
   "cell_type": "markdown",
   "id": "3b6ced6e-ee60-4c8b-ba67-1e86cc0149c3",
   "metadata": {},
   "source": [
    "Las tareas de clasificación se ocupan de objetivos categóricos (por ejemplo, determinar especies de animales en una imagen). Si solo tenemos dos categorías, por ejemplo, si un cliente volverá a visitar el sitio web o no, es una clasificación binaria.\n",
    "\n",
    "Si el objetivo es numérico, entonces es una tarea de regresión"
   ]
  },
  {
   "cell_type": "code",
   "execution_count": 10,
   "id": "3a4a4c4e-ce16-45cd-996f-5b6ff6cb972a",
   "metadata": {},
   "outputs": [
    {
     "name": "stdout",
     "output_type": "stream",
     "text": [
      "113000.0\n"
     ]
    }
   ],
   "source": [
    "print(df['last_price'].median())"
   ]
  },
  {
   "cell_type": "markdown",
   "id": "f2d83d1f-7240-46a5-9d2c-939bea984147",
   "metadata": {},
   "source": [
    "Cambia la tarea original a una tarea de clasificación. Crea una nueva característica llamada price_class. Para precios mayores a $113 000, asigna price_class a 1. Para precios menores o iguales a \\\\$113 000, asigna 'price_class' a 0. Imprime las primeras cinco filas de la tabla (que ya están en precodificación)."
   ]
  },
  {
   "cell_type": "code",
   "execution_count": 11,
   "id": "3542996f-32bb-42e2-b59d-3fc72d2a2481",
   "metadata": {},
   "outputs": [
    {
     "name": "stdout",
     "output_type": "stream",
     "text": [
      "   last_price  total_area  bedrooms  ceiling_height  floors_total  \\\n",
      "0    108000.0        59.0         2            2.87             4   \n",
      "1    264000.0       109.0         4            3.15             5   \n",
      "2    140000.0        74.5         3            2.58            10   \n",
      "3     64000.0        37.4         1            2.50             9   \n",
      "4    133000.0        64.9         3            2.65            12   \n",
      "\n",
      "   living_area  floor  bike_parking  studio  open_plan  kitchen_area  balcony  \\\n",
      "0         31.5      2             0       0          0           6.6        0   \n",
      "1         72.0      2             0       0          0          12.2        0   \n",
      "2         49.0      9             0       0          0          10.8        0   \n",
      "3         20.0      4             0       0          0           6.2        2   \n",
      "4         41.9     11             0       0          0          10.4        0   \n",
      "\n",
      "   airports_nearest  cityCenters_nearest  price_class  \n",
      "0             20485                 8180          0.0  \n",
      "1             42683                 8643          1.0  \n",
      "2             14078                16670          1.0  \n",
      "3             17792                17699          0.0  \n",
      "4             14767                10573          1.0  \n"
     ]
    }
   ],
   "source": [
    "df.loc[df['last_price'] > 113000, ['price_class']]=1\n",
    "df.loc[df['last_price'] <= 113000, ['price_class']]=0\n",
    "\n",
    "print(df.head())"
   ]
  },
  {
   "cell_type": "markdown",
   "id": "6bfdf370-46bd-4791-b7da-44c451b2b4b5",
   "metadata": {},
   "source": [
    "Muchas librerías de machine learning requieren que las características se almacenen en variables separadas. Declara dos variables:\n",
    "\n",
    "    features para características\n",
    "    target para objetivo"
   ]
  },
  {
   "cell_type": "code",
   "execution_count": 12,
   "id": "a0c738a1-64b5-4374-8bc8-899a3e4f9c5a",
   "metadata": {},
   "outputs": [
    {
     "name": "stdout",
     "output_type": "stream",
     "text": [
      "(6495, 13)\n",
      "(6495,)\n"
     ]
    }
   ],
   "source": [
    "features = df.drop(['price_class','last_price'], axis=1)\n",
    "target = df['price_class']\n",
    "\n",
    "print(features.shape)\n",
    "print(target.shape)"
   ]
  },
  {
   "cell_type": "markdown",
   "id": "4b5fef94-dce3-42b2-afb0-cd8685c4cc68",
   "metadata": {},
   "source": [
    "Si las predicciones son ciertas, la suposición es correcta. Este enfoque se denomina modelado. Las suposiciones y los métodos de predicción se denominan modelos de machine learning."
   ]
  },
  {
   "cell_type": "markdown",
   "id": "26a05dee-2a21-4281-9003-fe96c1c8ac7c",
   "metadata": {},
   "source": [
    "Para iniciar el entrenamiento, llama al método fit() y pásale tus variables como argumento."
   ]
  },
  {
   "cell_type": "code",
   "execution_count": 13,
   "id": "7d21f916-af3c-4bf0-bd1a-958c77d304e9",
   "metadata": {},
   "outputs": [
    {
     "name": "stdout",
     "output_type": "stream",
     "text": [
      "DecisionTreeClassifier(ccp_alpha=0.0, class_weight=None, criterion='gini',\n",
      "                       max_depth=None, max_features=None, max_leaf_nodes=None,\n",
      "                       min_impurity_decrease=0.0, min_samples_leaf=1,\n",
      "                       min_samples_split=2, min_weight_fraction_leaf=0.0,\n",
      "                       random_state=None, splitter='best')\n"
     ]
    }
   ],
   "source": [
    "from sklearn import set_config\n",
    "set_config(print_changed_only=False)\n",
    "\n",
    "'''\n",
    ") es una configuración global de scikit-learn que controla cómo se muestran los parámetros de los modelos cuando los imprimes.\n",
    "    Muestra TODOS los parámetros del modelo, incluso los que tienen valores por defecto\n",
    "    Es útil para ver la configuración completa del modelo\n",
    "'''\n",
    "\n",
    "# importa el árbol de decisión de la librería sklearn\n",
    "from sklearn.tree import DecisionTreeClassifier\n",
    "\n",
    "# crea un modelo vacío y asígnalo a una variable\n",
    "model = DecisionTreeClassifier()\n",
    "\n",
    "# entrena un modelo llamando al método fit()\n",
    "model.fit(features,target)\n",
    "\n",
    "print(model)"
   ]
  },
  {
   "cell_type": "markdown",
   "id": "e5c5bc19-eeeb-4935-9e5f-8ead34ec73f4",
   "metadata": {},
   "source": [
    "Ahora tenemos un modelo entrenado en la variable model . Para predecir respuestas, llama al método predict() y pásale la tabla con las características de las nuevas observaciones."
   ]
  },
  {
   "cell_type": "code",
   "execution_count": 14,
   "id": "e6e489ca-ea59-4751-abc8-02034d8f201c",
   "metadata": {},
   "outputs": [
    {
     "name": "stdout",
     "output_type": "stream",
     "text": [
      "[1. 0.]\n"
     ]
    }
   ],
   "source": [
    "new_features = pd.DataFrame(\n",
    "    [\n",
    "        [None, None, 2.8, 25, None, 25, 0, 0, 0, None, 0, 30706.0, 7877.0],\n",
    "        [None, None, 2.75, 25, None, 25, 0, 0, 0, None, 0, 36421.0, 9176.0]\n",
    "    ],\n",
    "    columns=features.columns\n",
    ")\n",
    "\n",
    "# completa la tabla con las nuevas características\n",
    "\n",
    "new_features.loc[0, 'total_area'] = 900.0\n",
    "new_features.loc[0, 'bedrooms'] = 12\n",
    "new_features.loc[0, 'living_area'] = 409.7\n",
    "new_features.loc[0, 'kitchen_area'] = 112.0\n",
    "\n",
    "new_features.loc[1, 'total_area'] = 109.0\n",
    "new_features.loc[1, 'bedrooms'] = 2\n",
    "new_features.loc[1, 'living_area'] = 32\n",
    "new_features.loc[1, 'kitchen_area'] = 40.5\n",
    "\n",
    "# predice respuestas y muestra el resultado en la pantalla\n",
    "answers = model.predict(new_features)\n",
    "print(answers)"
   ]
  }
 ],
 "metadata": {
  "kernelspec": {
   "display_name": "Python 3 (ipykernel)",
   "language": "python",
   "name": "python3"
  },
  "language_info": {
   "codemirror_mode": {
    "name": "ipython",
    "version": 3
   },
   "file_extension": ".py",
   "mimetype": "text/x-python",
   "name": "python",
   "nbconvert_exporter": "python",
   "pygments_lexer": "ipython3",
   "version": "3.8.10"
  }
 },
 "nbformat": 4,
 "nbformat_minor": 5
}
